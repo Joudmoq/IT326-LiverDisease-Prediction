## Project Goal  
The main goal of this project is to apply data mining techniques to predict liver disease. Specifically, we aim to classify patients into two categories: those who are diagnosed with liver disease and those who are not. In addition, clustering techniques will be applied to discover potential hidden patterns and similarities among patient records.  

## Dataset Source  
The dataset was obtained from Kaggle:  
[Predict Liver Disease Dataset - Kaggle](https://www.kaggle.com/datasets/rabieelkharoua/predict-liver-disease-1700-records-dataset)  
